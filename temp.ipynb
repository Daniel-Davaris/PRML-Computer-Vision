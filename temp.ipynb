{
 "cells": [
  {
   "cell_type": "code",
   "execution_count": 23,
   "metadata": {},
   "outputs": [
    {
     "name": "stdout",
     "output_type": "stream",
     "text": [
      "Number of images in folder: Chunk_1 20260\n",
      "Number of images in folder: Chunk_10 20259\n",
      "Number of images in folder: Chunk_2 20260\n",
      "Number of images in folder: Chunk_3 20260\n",
      "Number of images in folder: Chunk_4 20260\n",
      "Number of images in folder: Chunk_5 20260\n",
      "Number of images in folder: Chunk_6 20260\n",
      "Number of images in folder: Chunk_7 20260\n",
      "Number of images in folder: Chunk_8 20260\n",
      "Number of images in folder: Chunk_9 20260\n",
      "202599\n"
     ]
    }
   ],
   "source": [
    "import os\n",
    "dir = \"Datasets/\"\n",
    "total = 0\n",
    "for i in os.listdir(dir):\n",
    "    path = i\n",
    "    num_files = len(os.listdir(dir+\"/\"+path))\n",
    "    print(\"Number of images in folder:\",i, num_files)\n",
    "    total += num_files\n",
    "print(total)\n",
    "\n"
   ]
  }
 ],
 "metadata": {
  "kernelspec": {
   "display_name": "Python 3",
   "language": "python",
   "name": "python3"
  },
  "language_info": {
   "codemirror_mode": {
    "name": "ipython",
    "version": 3
   },
   "file_extension": ".py",
   "mimetype": "text/x-python",
   "name": "python",
   "nbconvert_exporter": "python",
   "pygments_lexer": "ipython3",
   "version": "3.11.1"
  }
 },
 "nbformat": 4,
 "nbformat_minor": 2
}
